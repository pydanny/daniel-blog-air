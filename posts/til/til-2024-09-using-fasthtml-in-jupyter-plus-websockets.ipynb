{
 "cells": [
  {
   "cell_type": "markdown",
   "id": "b7f569f7",
   "metadata": {},
   "source": [
    "---\n",
    "date: '2024-09-23T15:13:34.609190'\n",
    "description: A simple websockets example hosted in a Jupyter notebook!\n",
    "image: /public/logos/til-1.png\n",
    "published: true\n",
    "tags:\n",
    "- TIL\n",
    "- FastHTML\n",
    "- python\n",
    "- jupyter\n",
    "title: 'TIL: Using FastHTML in Jupyter notebooks plus websockets'\n",
    "twitter_image: /public/logos/til-1.png\n",
    "---"
   ]
  },
  {
   "cell_type": "markdown",
   "id": "dcb7a6c1",
   "metadata": {},
   "source": [
    "# Websockets in Jupyter"
   ]
  },
  {
   "cell_type": "markdown",
   "id": "1e4f42f0",
   "metadata": {},
   "source": [
    "A simple websockets example hosted in a Jupyter notebook! Check it out! \n",
    "\n",
    "Use at least FastHTML 0.6.5. This code is heavily inspired by this [code](https://docs.fastht.ml/tutorials/by_example.html#websockets) written by Jeremy Howard."
   ]
  },
  {
   "cell_type": "code",
   "execution_count": 1,
   "id": "ccc69a8c",
   "metadata": {
    "trusted": true
   },
   "outputs": [],
   "source": [
    "# import necessary pieces\n",
    "from fasthtml.common import *\n",
    "from asyncio import sleep\n",
    "\n",
    "# Might be merged into fasthtml.common\n",
    "from fasthtml.jupyter import *"
   ]
  },
  {
   "cell_type": "code",
   "execution_count": 2,
   "id": "257f7974",
   "metadata": {
    "trusted": true
   },
   "outputs": [],
   "source": [
    "def mk_inp(): return Input(id='msg')"
   ]
  },
  {
   "cell_type": "code",
   "execution_count": 3,
   "id": "d18faba3",
   "metadata": {
    "trusted": true
   },
   "outputs": [],
   "source": [
    "# FastJupy() is a wrapper around the FastHTML() class\n",
    "# ws_hdr brings in the websocket headers\n",
    "app = FastJupy(ws_hdr=True)\n",
    "rt = app.route"
   ]
  },
  {
   "cell_type": "code",
   "execution_count": 9,
   "id": "604e2c0b",
   "metadata": {
    "trusted": true
   },
   "outputs": [],
   "source": [
    "@rt('/')\n",
    "async def get(request):\n",
    "    cts = Div(\n",
    "        Div(id='notifications'),\n",
    "        Form(mk_inp(), id='form', ws_send=True),\n",
    "        hx_ext='ws', ws_connect='/ws')\n",
    "    return Titled('Websocket Test', cts)"
   ]
  },
  {
   "cell_type": "code",
   "execution_count": 5,
   "id": "4c54f144",
   "metadata": {
    "trusted": true
   },
   "outputs": [],
   "source": [
    "async def on_connect(send):\n",
    "    print('Connected!')\n",
    "    await send(Div('Hello, you have connected', id=\"notifications\"))\n",
    "\n",
    "async def on_disconnect(ws):\n",
    "    print('Disconnected!')"
   ]
  },
  {
   "cell_type": "code",
   "execution_count": 6,
   "id": "0affff9a",
   "metadata": {
    "trusted": true
   },
   "outputs": [],
   "source": [
    "@app.ws('/ws', conn=on_connect, disconn=on_disconnect)\n",
    "async def ws(msg:str, send):\n",
    "    await send(Div('Hello ' + msg, id=\"notifications\"))\n",
    "    await sleep(2)\n",
    "    return Div('Goodbye ' + msg, id=\"notifications\"), mk_inp()"
   ]
  },
  {
   "cell_type": "code",
   "execution_count": 7,
   "id": "99142b38",
   "metadata": {
    "trusted": true
   },
   "outputs": [
    {
     "name": "stdout",
     "output_type": "stream",
     "text": [
      "Connected!\n"
     ]
    }
   ],
   "source": [
    "port = 8000\n",
    "server = JupyUvi(app, port=port)"
   ]
  },
  {
   "cell_type": "code",
   "execution_count": 8,
   "id": "4e8621e5",
   "metadata": {
    "trusted": true
   },
   "outputs": [
    {
     "data": {
      "text/html": [
       "<iframe src=\"http://localhost:8000\" style=\"width: 100%; border: none;\" onload=\"{\n",
       "        let frame = this;\n",
       "        window.addEventListener('message', function(e) {\n",
       "            if (e.data.height) frame.style.height = (e.data.height+1) + 'px';\n",
       "        }, false);\n",
       "    }\" allow=\"accelerometer;\n",
       "autoplay;\n",
       "camera;\n",
       "clipboard-read;\n",
       "clipboard-write;\n",
       "display-capture;\n",
       "encrypted-media;\n",
       "fullscreen;\n",
       "gamepad;\n",
       "geolocation;\n",
       "gyroscope;\n",
       "hid;\n",
       "identity-credentials-get;\n",
       "idle-detection;\n",
       "magnetometer;\n",
       "microphone;\n",
       "midi;\n",
       "payment;\n",
       "picture-in-picture;\n",
       "publickey-credentials-get;\n",
       "screen-wake-lock;\n",
       "serial;\n",
       "usb;\n",
       "web-share;\n",
       "xr-spatial-tracking\n",
       "\"></iframe> "
      ],
      "text/plain": [
       "<IPython.core.display.HTML object>"
      ]
     },
     "execution_count": 8,
     "metadata": {},
     "output_type": "execute_result"
    }
   ],
   "source": [
    "HTMX()"
   ]
  },
  {
   "cell_type": "code",
   "execution_count": null,
   "id": "bda7bea5",
   "metadata": {
    "trusted": true
   },
   "outputs": [],
   "source": [
    "# Run me if you want to gracefully stop the HTTP server\n",
    "# without restarting Jupyter\n",
    "server.stop()"
   ]
  }
 ],
 "metadata": {
  "_draft": {
   "nbviewer_url": "https://gist.github.com/pydanny/1eee38ceec17a915a67f1c382d3387ea"
  },
  "gist": {
   "data": {
    "description": "FastHTML plus Jupyter plus websockets",
    "public": true
   },
   "id": "1eee38ceec17a915a67f1c382d3387ea"
  },
  "kernelspec": {
   "display_name": "Python 3 (ipykernel)",
   "language": "python",
   "name": "python3"
  },
  "language_info": {
   "codemirror_mode": {
    "name": "ipython",
    "version": 3
   },
   "file_extension": ".py",
   "mimetype": "text/x-python",
   "name": "python",
   "nbconvert_exporter": "python",
   "pygments_lexer": "ipython3",
   "version": "3.10.6"
  }
 },
 "nbformat": 4,
 "nbformat_minor": 5
}
