{
 "cells": [
  {
   "cell_type": "markdown",
   "metadata": {},
   "source": [
    "---\n",
    "date: \"2024-12-25T02:00:00.00Z\"\n",
    "description: \"Did you know that Python's types library has a bunch class implementation? How did I not see this before?!\"\n",
    "published: true\n",
    "tags:\n",
    "  - python\n",
    "  - TIL\n",
    "  - bunch\n",
    "time_to_read: 2\n",
    "title: \"TIL: types.SimpleNamespace is a Bunch class\"\n",
    "type: post\n",
    "---"
   ]
  },
  {
   "cell_type": "markdown",
   "metadata": {},
   "source": [
    "Early in my coding career I stumbling across the easy dot notations of bunch classes. I've created my own and even documented it a [two](/posts/2011-11-loving-bunch-class) [times](/posts/exploring-the-bunch-class). What I did not know until recently was the `types` library in core Python provides easy bunch class functionality. Credit to Jeremy Howard for schooling me on this one."
   ]
  },
  {
   "cell_type": "code",
   "execution_count": 14,
   "metadata": {},
   "outputs": [],
   "source": [
    "from types import SimpleNamespace as ns"
   ]
  },
  {
   "cell_type": "code",
   "execution_count": 15,
   "metadata": {},
   "outputs": [
    {
     "data": {
      "text/plain": [
       "namespace(age=6, name='Uma')"
      ]
     },
     "execution_count": 15,
     "metadata": {},
     "output_type": "execute_result"
    }
   ],
   "source": [
    "daughter = ns(age=6, name='Uma')\n",
    "daughter"
   ]
  },
  {
   "cell_type": "markdown",
   "metadata": {},
   "source": [
    "Accessing attributes"
   ]
  },
  {
   "cell_type": "code",
   "execution_count": 16,
   "metadata": {},
   "outputs": [
    {
     "data": {
      "text/plain": [
       "'Uma'"
      ]
     },
     "execution_count": 16,
     "metadata": {},
     "output_type": "execute_result"
    }
   ],
   "source": [
    "daughter.name"
   ]
  },
  {
   "cell_type": "markdown",
   "metadata": {},
   "source": [
    "Accessing all the data at once"
   ]
  },
  {
   "cell_type": "code",
   "execution_count": 17,
   "metadata": {},
   "outputs": [
    {
     "data": {
      "text/plain": [
       "{'age': 6, 'name': 'Uma'}"
      ]
     },
     "execution_count": 17,
     "metadata": {},
     "output_type": "execute_result"
    }
   ],
   "source": [
    "daughter.__dict__"
   ]
  },
  {
   "cell_type": "markdown",
   "metadata": {},
   "source": [
    "Useful for tracking age over time! And in list comprehension (and by extension generator expressions)."
   ]
  },
  {
   "cell_type": "code",
   "execution_count": 18,
   "metadata": {},
   "outputs": [
    {
     "data": {
      "text/plain": [
       "[namespace(age=5, name='Uma'),\n",
       " namespace(age=6, name='Uma'),\n",
       " namespace(age=7, name='Uma'),\n",
       " namespace(age=8, name='Uma'),\n",
       " namespace(age=9, name='Uma')]"
      ]
     },
     "execution_count": 18,
     "metadata": {},
     "output_type": "execute_result"
    }
   ],
   "source": [
    "ages = [ns(age=i, name='Uma') for i in range(5,10)]\n",
    "ages"
   ]
  }
 ],
 "metadata": {
  "kernelspec": {
   "display_name": ".venv",
   "language": "python",
   "name": "python3"
  },
  "language_info": {
   "codemirror_mode": {
    "name": "ipython",
    "version": 3
   },
   "file_extension": ".py",
   "mimetype": "text/x-python",
   "name": "python",
   "nbconvert_exporter": "python",
   "pygments_lexer": "ipython3",
   "version": "3.12.6"
  }
 },
 "nbformat": 4,
 "nbformat_minor": 2
}
