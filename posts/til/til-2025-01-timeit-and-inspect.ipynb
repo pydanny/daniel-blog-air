{
 "cells": [
  {
   "cell_type": "markdown",
   "metadata": {},
   "source": [
    "---\n",
    "date: \"2025-01-14T15:30:00.00Z\"\n",
    "description: \"Two libraries in Python's standard library that are useful for keeping load testing code all in one module.\"\n",
    "published: true\n",
    "tags:\n",
    "  - python\n",
    "  - TIL\n",
    "  - load testing\n",
    "time_to_read: 2\n",
    "title: \"TIL: Using inspect and timeit together\"\n",
    "type: post\n",
    "---"
   ]
  },
  {
   "cell_type": "markdown",
   "metadata": {},
   "source": [
    "When working with `timeit` you either have to write code in string variables or load a seperate Python module as code. The former is a really not a good idea, the latter is ideal but annoying for quick tests. So I thought this up today, probably reinventing what someone else has done. "
   ]
  },
  {
   "cell_type": "markdown",
   "metadata": {},
   "source": [
    "For an example let's define a simple function we want to test that generates a random 10 character string:"
   ]
  },
  {
   "cell_type": "code",
   "execution_count": 2,
   "metadata": {},
   "outputs": [
    {
     "data": {
      "text/plain": [
       "'SHglBkLIim'"
      ]
     },
     "execution_count": 2,
     "metadata": {},
     "output_type": "execute_result"
    }
   ],
   "source": [
    "def get_random_string(length=10):\n",
    "    from random import choice\n",
    "    from string import ascii_letters\n",
    "    return ''.join(choice(ascii_letters) for _ in range(length))\n",
    "get_random_string()    "
   ]
  },
  {
   "cell_type": "markdown",
   "metadata": {},
   "source": [
    "You'll notice that the imports are in the calling function. That makes the next step a bit easier. That's where we use `inspect.getsource()` to save the code of get_random_string to a variable called `setup_stmt`."
   ]
  },
  {
   "cell_type": "code",
   "execution_count": 3,
   "metadata": {},
   "outputs": [
    {
     "name": "stdout",
     "output_type": "stream",
     "text": [
      "def get_random_string(length=10):\n",
      "    from random import choice\n",
      "    from string import ascii_letters\n",
      "    return ''.join(choice(ascii_letters) for _ in range(length))\n",
      "\n"
     ]
    }
   ],
   "source": [
    "from inspect import getsource\n",
    "setup_stmt = getsource(get_random_string)\n",
    "print(setup_stmt)\n",
    "# The 'code' below is a printed string in a notebook cell, not actual code"
   ]
  },
  {
   "cell_type": "markdown",
   "metadata": {},
   "source": [
    "Next step is we create a `code_stmt` variable that calls that function."
   ]
  },
  {
   "cell_type": "code",
   "execution_count": 4,
   "metadata": {},
   "outputs": [],
   "source": [
    "code_stmt = 'get_random_string()'"
   ]
  },
  {
   "cell_type": "markdown",
   "metadata": {},
   "source": [
    "Now we can plug that into a timeit module to see how fast it runs."
   ]
  },
  {
   "cell_type": "code",
   "execution_count": 5,
   "metadata": {},
   "outputs": [
    {
     "data": {
      "text/plain": [
       "1.478982917004032"
      ]
     },
     "execution_count": 5,
     "metadata": {},
     "output_type": "execute_result"
    }
   ],
   "source": [
    "from timeit import timeit\n",
    "timeit(stmt=code_stmt, setup=setup_stmt)"
   ]
  },
  {
   "cell_type": "markdown",
   "metadata": {},
   "source": [
    "Again, the advantage of this approach is that it's all in one module and we can easily test that the function works before sticking it in timeout."
   ]
  }
 ],
 "metadata": {
  "kernelspec": {
   "display_name": ".venv",
   "language": "python",
   "name": "python3"
  },
  "language_info": {
   "codemirror_mode": {
    "name": "ipython",
    "version": 3
   },
   "file_extension": ".py",
   "mimetype": "text/x-python",
   "name": "python",
   "nbconvert_exporter": "python",
   "pygments_lexer": "ipython3",
   "version": "3.12.6"
  }
 },
 "nbformat": 4,
 "nbformat_minor": 2
}
