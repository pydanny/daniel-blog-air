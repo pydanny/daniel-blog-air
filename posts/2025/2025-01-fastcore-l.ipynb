{
 "cells": [
  {
   "cell_type": "markdown",
   "metadata": {},
   "source": [
    "---\n",
    "date: \"2025-01-19T14:30:00.00Z\"\n",
    "description: \"An exploration of Fastcore's enhanced list-like structure\"\n",
    "published: true\n",
    "tags:\n",
    "  - python\n",
    "  - fastcore\n",
    "  - howto\n",
    "time_to_read: 2\n",
    "title: \"Fastcore L\"\n",
    "type: post\n",
    "---"
   ]
  },
  {
   "cell_type": "markdown",
   "metadata": {
    "vscode": {
     "languageId": "plaintext"
    }
   },
   "source": [
    "In September of 2023 after a 5 year hiatus from creating new Python packages I decided to re-explore how to package Python code for distribution. This was before [uv](https://docs.astral.sh/uv/) existed so it was worth knowing all the nitty-gritty details. My sample project was [listo](https://github.com/pydanny/listo), an enhanced list for Python with these planned features:\n",
    "\n",
    "- More consistent behavior . No more methods with \"in-place\" changes. Every method call returns a value\n",
    "- Added methods that are missing from the list type, like `.map()` and `.filter()`, which I never got around to implementing\n",
    "\n",
    "It was a fun little exploratory package. Alas, at the time my open source efforts went more towards [dj-notebook](https://github.com/pydanny/dj-notebook). Nevertheless I sometimes thought about revisiting and finishing the project.\n",
    "\n",
    "Then I discovered `fastcore.foundation.L`. This handy sequence tool is similar in concept to my own `listo` but much more complete. Let's go over some of its features and compare it to the standard Python `list` structure."
   ]
  },
  {
   "cell_type": "markdown",
   "metadata": {},
   "source": [
    "## Basic usage"
   ]
  },
  {
   "cell_type": "code",
   "execution_count": 31,
   "metadata": {},
   "outputs": [],
   "source": [
    "from fastcore.foundation import L"
   ]
  },
  {
   "cell_type": "markdown",
   "metadata": {},
   "source": [
    "Let's create a L sequence and example it:"
   ]
  },
  {
   "cell_type": "code",
   "execution_count": 35,
   "metadata": {},
   "outputs": [
    {
     "data": {
      "text/plain": [
       "(#100) [0,1,2,3,4,5,6,7,8,9,10,11,12,13,14,15,16,17,18,19...]"
      ]
     },
     "execution_count": 35,
     "metadata": {},
     "output_type": "execute_result"
    }
   ],
   "source": [
    "lst1 = L(range(100))\n",
    "lst1"
   ]
  },
  {
   "cell_type": "markdown",
   "metadata": {},
   "source": [
    "The print representation of an L sequence has two interesting features. For starters, it provides a count of items, in this case 100 of them. It also truncates the output so if you have a large sequence you aren't given an oversized block of values."
   ]
  },
  {
   "cell_type": "markdown",
   "metadata": {},
   "source": [
    "Like `listo()`, every method provided by `L` returns an `L` object. This allows for chaining of operations. Let's see what that works with a list of duplicated values."
   ]
  },
  {
   "cell_type": "code",
   "execution_count": 36,
   "metadata": {},
   "outputs": [
    {
     "data": {
      "text/plain": [
       "(#10) [0,1,2,3,4,0,1,2,3,4]"
      ]
     },
     "execution_count": 36,
     "metadata": {},
     "output_type": "execute_result"
    }
   ],
   "source": [
    "lst2 = L(list(range(5))+list(range(5)))\n",
    "lst2"
   ]
  },
  {
   "cell_type": "markdown",
   "metadata": {},
   "source": [
    "We'll remove duplicates while preserving order and keeping only even values."
   ]
  },
  {
   "cell_type": "code",
   "execution_count": 37,
   "metadata": {},
   "outputs": [
    {
     "data": {
      "text/plain": [
       "(#2) [2,4]"
      ]
     },
     "execution_count": 37,
     "metadata": {},
     "output_type": "execute_result"
    }
   ],
   "source": [
    "lst2.unique().filter(lambda x: not x % 2 and x)"
   ]
  },
  {
   "cell_type": "markdown",
   "metadata": {},
   "source": [
    "This line of code is using two L methods:\n",
    "- `.unique()` for removing duplicate elements but maintaining the order of the sequence\n",
    "- `.filter()` for running a function that based on a boolean response keeps or removes values. In this case we use a lambda that returns a boolean to tell it to only keep even values"
   ]
  },
  {
   "cell_type": "markdown",
   "metadata": {},
   "source": [
    "While I could do this with a regular Python list it's bit more verbose."
   ]
  },
  {
   "cell_type": "code",
   "execution_count": 42,
   "metadata": {},
   "outputs": [
    {
     "data": {
      "text/plain": [
       "[2, 4]"
      ]
     },
     "execution_count": 43,
     "metadata": {},
     "output_type": "execute_result"
    }
   ],
   "source": [
    "seen = set()\n",
    "[x for x in lst2 if not (x in seen or seen.add(x)) if not x % 2 and x]\n"
   ]
  },
  {
   "cell_type": "markdown",
   "metadata": {},
   "source": [
    "While I love regular expressions and use them constantly, I have to say that L is more legible. Take a look at both and you'll see what I mean:\n",
    "\n",
    "- `lst2.unique().filter(lambda x: not x % 2 and x)`\n",
    "- `seen = set(); [x for x in lst2 if not (x in seen or seen.add(x)) if not x % 2 and x]`"
   ]
  },
  {
   "cell_type": "markdown",
   "metadata": {},
   "source": [
    "## Why not use L for every sequence?"
   ]
  },
  {
   "cell_type": "markdown",
   "metadata": {},
   "source": [
    "There's no one-size fits all structure for sequences. Here's two reasons why it's good to keep up your list comprehension skills."
   ]
  },
  {
   "cell_type": "markdown",
   "metadata": {},
   "source": [
    "1. `Fastcore` is another Python dependency, sometimes you can't control the libraries you are using. This is why list comprehension is such an important skill for any Python dev.\n",
    "2. `L` is not a generator expression, meaning large sizes in terms of number of elements or the size of individual elements can be problematic. The ability to convert a list comprehension like `[x for x in range(100)]` to a generator expression like `(x for x in range(100))` simply by converting square brackets to parenthesis is one of Python's greatest superpowers"
   ]
  },
  {
   "cell_type": "markdown",
   "metadata": {},
   "source": []
  }
 ],
 "metadata": {
  "kernelspec": {
   "display_name": ".venv",
   "language": "python",
   "name": "python3"
  },
  "language_info": {
   "codemirror_mode": {
    "name": "ipython",
    "version": 3
   },
   "file_extension": ".py",
   "mimetype": "text/x-python",
   "name": "python",
   "nbconvert_exporter": "python",
   "pygments_lexer": "ipython3",
   "version": "3.12.6"
  }
 },
 "nbformat": 4,
 "nbformat_minor": 2
}
