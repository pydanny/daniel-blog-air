{
 "cells": [
  {
   "cell_type": "markdown",
   "id": "962a6e03",
   "metadata": {},
   "source": [
    "---\n",
    "date: \"2025-01-09T19:30:00.00Z\"\n",
    "description: \"An exploration of how to access awesome search features in SQLite\"\n",
    "published: false\n",
    "tags:\n",
    "  - python\n",
    "  - fastcore\n",
    "time_to_read: 2\n",
    "title: \"Full-text search in SQLite using APSW\"\n",
    "type: post\n",
    "---"
   ]
  },
  {
   "cell_type": "code",
   "execution_count": 2,
   "id": "e7ba208c",
   "metadata": {},
   "outputs": [],
   "source": [
    "from typing import Optional, Iterator, Any\n",
    "\n",
    "from pprint import pprint\n",
    "import re\n",
    "import functools\n",
    "\n",
    "import apsw\n",
    "import apsw.ext\n",
    "\n",
    "# The three FTS5 specific modules\n",
    "import apsw.fts5\n",
    "import apsw.fts5aux\n",
    "import apsw.fts5query"
   ]
  },
  {
   "cell_type": "code",
   "execution_count": null,
   "id": "f612cf21",
   "metadata": {},
   "outputs": [],
   "source": []
  }
 ],
 "metadata": {
  "kernelspec": {
   "display_name": "Python 3 (ipykernel)",
   "language": "python",
   "name": "python3"
  },
  "language_info": {
   "codemirror_mode": {
    "name": "ipython",
    "version": 3
   },
   "file_extension": ".py",
   "mimetype": "text/x-python",
   "name": "python",
   "nbconvert_exporter": "python",
   "pygments_lexer": "ipython3",
   "version": "3.12.6"
  }
 },
 "nbformat": 4,
 "nbformat_minor": 5
}
